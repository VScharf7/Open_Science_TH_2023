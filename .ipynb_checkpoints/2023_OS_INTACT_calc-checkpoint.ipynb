{
 "cells": [
  {
   "cell_type": "code",
   "execution_count": 1,
   "id": "3458fd61",
   "metadata": {
    "tags": []
   },
   "outputs": [
    {
     "name": "stdout",
     "output_type": "stream",
     "text": [
      "Index(['Gender', 'Age', 'Cohab_alone', 'Cohab_partner', 'Cohab_child',\n",
      "       'Occupation', 'Ethnicity', 'Education', 'Housing', 'Isolation',\n",
      "       'Pet_ownership', 'Animal_dog', 'Animal_cat', 'Animal_small',\n",
      "       'Animal_bird', 'Animal_fish', 'Animal_reptile', 'Animal_amphib',\n",
      "       'Animal_horse', 'Animal_farm', 'Animal_other', 'Animal_amount',\n",
      "       'Non_pet', 'Animal_addition', 'Animal_consid', 'Animal_role',\n",
      "       'Animal_closest', 'CCA_companion', 'CCA_care', 'CCA_activity',\n",
      "       'CCA_constancy', 'CCA_needed', 'CCA_play', 'CCA_love', 'CCA_comfort',\n",
      "       'CCA_watch', 'CCA_loved', 'CCA_trust', 'CCA_family', 'Worry_financial',\n",
      "       'Worry_food', 'Worry_vet', 'Worry_ill', 'Worry_exercise', 'Worry_covid',\n",
      "       'Worry_work', 'Worry_routine', 'Worry_other', 'Worry_none',\n",
      "       'Worry_other_text', 'Givingup_animal', 'Animal_emotion',\n",
      "       'Animal_active', 'Animal_social', 'Animal_family_pos',\n",
      "       'Animal_family_neg', 'Animal_without', 'Animal_not', 'SWEMWBS_optim',\n",
      "       'SWEMWBS_useful', 'SWEMWBS_relaxed', 'SWEMWBS_dealing',\n",
      "       'SWEMWBS_clearly', 'SWEMWBS_people', 'SWEMWBS_mind', 'MHI_s_nervous',\n",
      "       'MHI_s_down', 'MHI_s_calm', 'MHI_s_blue', 'MHI_s_happy',\n",
      "       'MHI_b_nervous', 'MHI_b_down', 'MHI_b_calm', 'MHI_b_blue',\n",
      "       'MHI_b_happy', 'UCLA_s_companion', 'UCLA_s_leftout', 'UCLA_s_isolated',\n",
      "       'UCLA_b_companion', 'UCLA_b_leftout', 'UCLA_b_isolated',\n",
      "       'Social_familyfriends', 'Activities_birds', 'Activities_wildlife',\n",
      "       'Activities_watching', 'Activities_working', 'Activities_riding',\n",
      "       'Activities_farm', 'Activities_webcam', 'Activities_other',\n",
      "       'Activities_time'],\n",
      "      dtype='object')\n"
     ]
    },
    {
     "data": {
      "text/html": [
       "<div>\n",
       "<style scoped>\n",
       "    .dataframe tbody tr th:only-of-type {\n",
       "        vertical-align: middle;\n",
       "    }\n",
       "\n",
       "    .dataframe tbody tr th {\n",
       "        vertical-align: top;\n",
       "    }\n",
       "\n",
       "    .dataframe thead th {\n",
       "        text-align: right;\n",
       "    }\n",
       "</style>\n",
       "<table border=\"1\" class=\"dataframe\">\n",
       "  <thead>\n",
       "    <tr style=\"text-align: right;\">\n",
       "      <th></th>\n",
       "      <th>Gender</th>\n",
       "      <th>Age</th>\n",
       "      <th>Cohab_alone</th>\n",
       "      <th>Cohab_partner</th>\n",
       "      <th>Cohab_child</th>\n",
       "      <th>Occupation</th>\n",
       "      <th>Ethnicity</th>\n",
       "      <th>Education</th>\n",
       "      <th>Housing</th>\n",
       "      <th>Isolation</th>\n",
       "      <th>...</th>\n",
       "      <th>Social_familyfriends</th>\n",
       "      <th>Activities_birds</th>\n",
       "      <th>Activities_wildlife</th>\n",
       "      <th>Activities_watching</th>\n",
       "      <th>Activities_working</th>\n",
       "      <th>Activities_riding</th>\n",
       "      <th>Activities_farm</th>\n",
       "      <th>Activities_webcam</th>\n",
       "      <th>Activities_other</th>\n",
       "      <th>Activities_time</th>\n",
       "    </tr>\n",
       "  </thead>\n",
       "  <tbody>\n",
       "    <tr>\n",
       "      <th>0</th>\n",
       "      <td>2</td>\n",
       "      <td>5</td>\n",
       "      <td>0</td>\n",
       "      <td>0</td>\n",
       "      <td>0</td>\n",
       "      <td></td>\n",
       "      <td>1</td>\n",
       "      <td></td>\n",
       "      <td>2</td>\n",
       "      <td>0</td>\n",
       "      <td>...</td>\n",
       "      <td></td>\n",
       "      <td></td>\n",
       "      <td></td>\n",
       "      <td></td>\n",
       "      <td></td>\n",
       "      <td></td>\n",
       "      <td></td>\n",
       "      <td></td>\n",
       "      <td></td>\n",
       "      <td></td>\n",
       "    </tr>\n",
       "    <tr>\n",
       "      <th>1</th>\n",
       "      <td>1</td>\n",
       "      <td>2</td>\n",
       "      <td>1</td>\n",
       "      <td>0</td>\n",
       "      <td>0</td>\n",
       "      <td></td>\n",
       "      <td>1</td>\n",
       "      <td></td>\n",
       "      <td>2</td>\n",
       "      <td>1</td>\n",
       "      <td>...</td>\n",
       "      <td></td>\n",
       "      <td></td>\n",
       "      <td></td>\n",
       "      <td></td>\n",
       "      <td></td>\n",
       "      <td></td>\n",
       "      <td></td>\n",
       "      <td></td>\n",
       "      <td></td>\n",
       "      <td></td>\n",
       "    </tr>\n",
       "    <tr>\n",
       "      <th>2</th>\n",
       "      <td>2</td>\n",
       "      <td>2</td>\n",
       "      <td>1</td>\n",
       "      <td>0</td>\n",
       "      <td>0</td>\n",
       "      <td></td>\n",
       "      <td>1</td>\n",
       "      <td></td>\n",
       "      <td>1</td>\n",
       "      <td>0</td>\n",
       "      <td>...</td>\n",
       "      <td></td>\n",
       "      <td></td>\n",
       "      <td></td>\n",
       "      <td></td>\n",
       "      <td></td>\n",
       "      <td></td>\n",
       "      <td></td>\n",
       "      <td></td>\n",
       "      <td></td>\n",
       "      <td></td>\n",
       "    </tr>\n",
       "    <tr>\n",
       "      <th>3</th>\n",
       "      <td>1</td>\n",
       "      <td>2</td>\n",
       "      <td>1</td>\n",
       "      <td>0</td>\n",
       "      <td>0</td>\n",
       "      <td></td>\n",
       "      <td>1</td>\n",
       "      <td></td>\n",
       "      <td>1</td>\n",
       "      <td>0</td>\n",
       "      <td>...</td>\n",
       "      <td></td>\n",
       "      <td></td>\n",
       "      <td></td>\n",
       "      <td></td>\n",
       "      <td></td>\n",
       "      <td></td>\n",
       "      <td></td>\n",
       "      <td></td>\n",
       "      <td></td>\n",
       "      <td></td>\n",
       "    </tr>\n",
       "    <tr>\n",
       "      <th>4</th>\n",
       "      <td>2</td>\n",
       "      <td>3</td>\n",
       "      <td>0</td>\n",
       "      <td>0</td>\n",
       "      <td>0</td>\n",
       "      <td></td>\n",
       "      <td>1</td>\n",
       "      <td></td>\n",
       "      <td>1</td>\n",
       "      <td>0</td>\n",
       "      <td>...</td>\n",
       "      <td></td>\n",
       "      <td></td>\n",
       "      <td></td>\n",
       "      <td></td>\n",
       "      <td></td>\n",
       "      <td></td>\n",
       "      <td></td>\n",
       "      <td></td>\n",
       "      <td></td>\n",
       "      <td></td>\n",
       "    </tr>\n",
       "  </tbody>\n",
       "</table>\n",
       "<p>5 rows × 91 columns</p>\n",
       "</div>"
      ],
      "text/plain": [
       "   Gender  Age  Cohab_alone  Cohab_partner  Cohab_child Occupation  Ethnicity  \\\n",
       "0       2    5            0              0            0                     1   \n",
       "1       1    2            1              0            0                     1   \n",
       "2       2    2            1              0            0                     1   \n",
       "3       1    2            1              0            0                     1   \n",
       "4       2    3            0              0            0                     1   \n",
       "\n",
       "  Education  Housing  Isolation  ... Social_familyfriends Activities_birds  \\\n",
       "0                  2          0  ...                                         \n",
       "1                  2          1  ...                                         \n",
       "2                  1          0  ...                                         \n",
       "3                  1          0  ...                                         \n",
       "4                  1          0  ...                                         \n",
       "\n",
       "  Activities_wildlife Activities_watching Activities_working  \\\n",
       "0                                                              \n",
       "1                                                              \n",
       "2                                                              \n",
       "3                                                              \n",
       "4                                                              \n",
       "\n",
       "  Activities_riding Activities_farm Activities_webcam Activities_other  \\\n",
       "0                                                                        \n",
       "1                                                                        \n",
       "2                                                                        \n",
       "3                                                                        \n",
       "4                                                                        \n",
       "\n",
       "  Activities_time  \n",
       "0                  \n",
       "1                  \n",
       "2                  \n",
       "3                  \n",
       "4                  \n",
       "\n",
       "[5 rows x 91 columns]"
      ]
     },
     "execution_count": 1,
     "metadata": {},
     "output_type": "execute_result"
    }
   ],
   "source": [
    "import pandas as pd\n",
    "import numpy as np\n",
    "\n",
    "df = pd.read_csv('data/INTACT_dataset_converted.csv')\n",
    "print(df.columns)\n",
    "df.head()"
   ]
  },
  {
   "cell_type": "code",
   "execution_count": 2,
   "id": "fb4b8b5a",
   "metadata": {
    "tags": []
   },
   "outputs": [
    {
     "data": {
      "text/plain": [
       "Gender\n",
       "1    1222\n",
       "2    4657\n",
       "3      36\n",
       "4      11\n",
       "dtype: int64"
      ]
     },
     "execution_count": 2,
     "metadata": {},
     "output_type": "execute_result"
    }
   ],
   "source": [
    "# creating index for used quantification\n",
    "Gender = df.groupby(['Gender']).size()\n",
    "Gender"
   ]
  },
  {
   "cell_type": "code",
   "execution_count": 3,
   "id": "d9f6f0b5",
   "metadata": {
    "tags": []
   },
   "outputs": [],
   "source": [
    "# According to the results\n",
    "# 1 = 1222 **male\n",
    "# 2 = 4657 **female\n",
    "# 3 = 36   **another way\n",
    "# 4 = 11   **rather not say\n",
    "\n",
    "# results match the original data"
   ]
  },
  {
   "cell_type": "code",
   "execution_count": 4,
   "id": "bc9a946e-07a9-4215-b320-c53e6bbc28f4",
   "metadata": {
    "tags": []
   },
   "outputs": [
    {
     "data": {
      "text/plain": [
       "Age\n",
       "1     420\n",
       "2    1040\n",
       "3     994\n",
       "4    1409\n",
       "5    1313\n",
       "6     418\n",
       "7     332\n",
       "dtype: int64"
      ]
     },
     "execution_count": 4,
     "metadata": {},
     "output_type": "execute_result"
    }
   ],
   "source": [
    "Age = df.groupby(['Age']).size()\n",
    "Age"
   ]
  },
  {
   "cell_type": "code",
   "execution_count": 5,
   "id": "f7b4b5a1-8d0a-4d9d-bdba-5155ea7732b0",
   "metadata": {
    "tags": []
   },
   "outputs": [],
   "source": [
    "# According to the results\n",
    "# 1 = 420  **18-24 \n",
    "# 2 = 1040 **25-34\n",
    "# 3 = 944  **35-44\n",
    "# 4 = 1409 **45-54\n",
    "# 5 = 1313 **55-64\n",
    "# 6 = 418  **65-70\n",
    "# 7 = 332  ** > 70\n",
    "\n",
    "# results match the original data"
   ]
  },
  {
   "cell_type": "code",
   "execution_count": 6,
   "id": "1be47537-6cb9-4b9a-a1fb-95e3898f55f3",
   "metadata": {
    "tags": []
   },
   "outputs": [
    {
     "data": {
      "text/plain": [
       "Ethnicity\n",
       "1    5739\n",
       "2      64\n",
       "3      32\n",
       "4       8\n",
       "5      11\n",
       "6       2\n",
       "7      16\n",
       "8      54\n",
       "dtype: int64"
      ]
     },
     "execution_count": 6,
     "metadata": {},
     "output_type": "execute_result"
    }
   ],
   "source": [
    "Ethni = df.groupby(['Ethnicity']).size()\n",
    "Ethni"
   ]
  },
  {
   "cell_type": "code",
   "execution_count": 7,
   "id": "1772bd82",
   "metadata": {
    "tags": []
   },
   "outputs": [],
   "source": [
    "# According to the results\n",
    "# 1 = 5742 **white\n",
    "# 2 = 67   **mixed/multiple ethnic\n",
    "# 3 = 32   **asian/asianbritish\n",
    "# 4 = 6    **black/african/caribbean/blackbritish\n",
    "# 5 = 8    **chinese\n",
    "# 6 = 4    **arab\n",
    "# 7 = 15   **other ethnicity\n",
    "# 8 = 52   **prefer not to say\n",
    "\n",
    "## results 1,2,4,5,6,7,8 do not match the original data\n"
   ]
  },
  {
   "cell_type": "code",
   "execution_count": 8,
   "id": "2638053f-9cf7-48c9-ab57-e59394b57a0a",
   "metadata": {
    "tags": []
   },
   "outputs": [
    {
     "data": {
      "text/plain": [
       "Education\n",
       "      535\n",
       "1     770\n",
       "2     340\n",
       "3     948\n",
       "4    1828\n",
       "5    1175\n",
       "6     154\n",
       "7     176\n",
       "dtype: int64"
      ]
     },
     "execution_count": 8,
     "metadata": {},
     "output_type": "execute_result"
    }
   ],
   "source": [
    "Education = df.groupby(['Education']).size()\n",
    "Education"
   ]
  },
  {
   "cell_type": "code",
   "execution_count": 9,
   "id": "f931a9e2-9cf4-486e-9447-43eff761a05f",
   "metadata": {
    "tags": []
   },
   "outputs": [],
   "source": [
    "# According to the results\n",
    "# 1 = 770  **GCSE/O-level/CSE \n",
    "# 2 = 340  **Vocational qualification\n",
    "# 3 = 988  **A-level or equivalent\n",
    "# 4 = 2073 **Bachelors's degree or equivalent\n",
    "# 5 = 1425 **Masters/PhD or equivalent\n",
    "# 6 = 154  **no formal qualifications\n",
    "# 7 = 176  **other\n",
    "\n",
    "## results 3,4,5 do not match the original data"
   ]
  },
  {
   "cell_type": "code",
   "execution_count": 10,
   "id": "2120ef25-8eae-40b0-8e2c-3661bc060fb2",
   "metadata": {
    "tags": []
   },
   "outputs": [
    {
     "data": {
      "text/plain": [
       "Occupation\n",
       "       535\n",
       "1      140\n",
       "10     515\n",
       "2      803\n",
       "3     1545\n",
       "4      277\n",
       "5      619\n",
       "6      100\n",
       "7      255\n",
       "8      903\n",
       "9      234\n",
       "dtype: int64"
      ]
     },
     "execution_count": 10,
     "metadata": {},
     "output_type": "execute_result"
    }
   ],
   "source": [
    "Employment_status = df.groupby(['Occupation']).size()\n",
    "Employment_status"
   ]
  },
  {
   "cell_type": "code",
   "execution_count": 11,
   "id": "c1630446-206a-4363-8cc1-07ae38d792e1",
   "metadata": {},
   "outputs": [],
   "source": [
    "# According to the results\n",
    "# 1 = 140  **self-employed working outside of the home\n",
    "# 2 = 903  **self-employed working from home\n",
    "# 3 = 1745 **employed working outside of the home\n",
    "# 4 = 362  **employed working from home\n",
    "# 5 = 682  **furloughed due to COVID19\n",
    "# 6 = 100  **redundant due to COVID19\n",
    "# 7 = 255  **unemployed\n",
    "# 8 = 990  **retired\n",
    "# 9 = 234  ** student\n",
    "# 10= 515  ** other\n",
    "\n",
    "## the results 2,3,4,5,8 do not match the original data"
   ]
  },
  {
   "cell_type": "code",
   "execution_count": 12,
   "id": "6f1550d5",
   "metadata": {},
   "outputs": [
    {
     "data": {
      "text/plain": [
       "Housing\n",
       "1    2392\n",
       "2    1802\n",
       "3     332\n",
       "4     898\n",
       "5     164\n",
       "6     338\n",
       "dtype: int64"
      ]
     },
     "execution_count": 12,
     "metadata": {},
     "output_type": "execute_result"
    }
   ],
   "source": [
    "Housing = df.groupby(['Housing']).size()\n",
    "Housing"
   ]
  },
  {
   "cell_type": "code",
   "execution_count": 13,
   "id": "7dc7bdd0",
   "metadata": {},
   "outputs": [],
   "source": [
    "# According to the results\n",
    "# 1 = 2360 **own house with a mortgage\n",
    "# 2 = 1826 **owned outright\n",
    "# 3 = 336  **rented from local authority\n",
    "# 4 = 888  **rented from private landlord\n",
    "# 5 = 167  **belongs to housing association\n",
    "# 6 = 349  **other\n",
    "\n",
    "## the results do not match the original data"
   ]
  },
  {
   "cell_type": "code",
   "execution_count": 14,
   "id": "b7547053-0614-4b70-9395-d509077abc46",
   "metadata": {
    "tags": []
   },
   "outputs": [
    {
     "data": {
      "text/plain": [
       "Pet_ownership\n",
       "       53\n",
       "0     550\n",
       "1    5323\n",
       "dtype: int64"
      ]
     },
     "execution_count": 14,
     "metadata": {},
     "output_type": "execute_result"
    }
   ],
   "source": [
    "Pet = df.groupby(['Pet_ownership']).size()\n",
    "Pet"
   ]
  },
  {
   "cell_type": "code",
   "execution_count": 15,
   "id": "73e0230f-3cf6-43b1-9105-bc9bb778bdf6",
   "metadata": {
    "tags": []
   },
   "outputs": [],
   "source": [
    "# according to the results \n",
    "# n=5323 participants did have at least one companion animal\n",
    "\n",
    "# not sure about the n=53 with out label \n",
    "# 1 = Yes ; 0 = No\n",
    "# not labelled counts are not having an animal according to the n=603 stated in the paper"
   ]
  },
  {
   "cell_type": "code",
   "execution_count": 16,
   "id": "b3b2a731",
   "metadata": {},
   "outputs": [
    {
     "data": {
      "text/plain": [
       "Isolation\n",
       "0    3710\n",
       "1    2216\n",
       "dtype: int64"
      ]
     },
     "execution_count": 16,
     "metadata": {},
     "output_type": "execute_result"
    }
   ],
   "source": [
    "Isolation = df.groupby(['Isolation']).size()\n",
    "Isolation"
   ]
  },
  {
   "cell_type": "code",
   "execution_count": 17,
   "id": "bab1d615",
   "metadata": {},
   "outputs": [],
   "source": [
    "# according to the results\n",
    "# 0 = 3707 **not socially isolating\n",
    "# 1 = 2219 **socially isolating\n",
    "\n",
    "## the results do not match the original data"
   ]
  },
  {
   "cell_type": "code",
   "execution_count": 18,
   "id": "9d102f78",
   "metadata": {},
   "outputs": [
    {
     "name": "stdout",
     "output_type": "stream",
     "text": [
      "Cohab_alone\n",
      "0    4845\n",
      "1    1081\n",
      "dtype: int64\n",
      "Cohab_partner\n",
      "0    2296\n",
      "1    3630\n",
      "dtype: int64\n",
      "Cohab_child\n",
      "0    4676\n",
      "1    1250\n",
      "dtype: int64\n"
     ]
    }
   ],
   "source": [
    "Cohab = df.groupby(['Cohab_alone']).size()\n",
    "print(Cohab)\n",
    "\n",
    "Cohab_partner = df.groupby(['Cohab_partner']).size()\n",
    "print(Cohab_partner)\n",
    "\n",
    "Cohab_ = df.groupby(['Cohab_child']).size()\n",
    "print(Cohab_)"
   ]
  },
  {
   "cell_type": "code",
   "execution_count": 19,
   "id": "4ca6d132",
   "metadata": {},
   "outputs": [],
   "source": [
    "# data structure not obvious due to the results\n",
    "# wrap up\n",
    "\n",
    "# Cohab_alone: 0=no, 1=yes\n",
    "# Cohab_partner: 0=no, 1=yes\n",
    "# Cohab_child: 0=no, 1=yes"
   ]
  },
  {
   "cell_type": "code",
   "execution_count": 20,
   "id": "e4beb2ac-bc76-4995-9f6c-8fdd80c0ff2d",
   "metadata": {
    "tags": []
   },
   "outputs": [],
   "source": [
    "dff = df[df[\"Pet_ownership\"] == \"1\"]\n",
    "gender_age = dff.groupby(['Gender', 'Age']).size()\n",
    "gender_dog = dff.groupby(['Gender', 'Animal_dog']).size()\n",
    "gender_cat = dff.groupby(['Gender', 'Animal_cat']).size()\n",
    "gender_fish = dff.groupby(['Gender', 'Animal_fish']).size()"
   ]
  },
  {
   "cell_type": "code",
   "execution_count": 21,
   "id": "5f38329a-d9e0-4b19-9932-13b36ac1a1e0",
   "metadata": {
    "tags": []
   },
   "outputs": [],
   "source": [
    "count_dog = dff[dff['Animal_dog'] == \"1\"].count()\n",
    "count_cat = dff[dff['Animal_cat'] == \"1\"].count()\n",
    "count_fish = dff[dff['Animal_fish'] == \"1\"].count()"
   ]
  },
  {
   "cell_type": "code",
   "execution_count": 22,
   "id": "938ed6a1-6c02-4bc9-b500-a0c8cfa808f1",
   "metadata": {
    "tags": []
   },
   "outputs": [
    {
     "name": "stdout",
     "output_type": "stream",
     "text": [
      "n accompanied by a dog:  3719\n",
      "n accompanied by a cat:  2340\n",
      "n accompanied by a fish:  485\n"
     ]
    }
   ],
   "source": [
    "print(\"n accompanied by a dog: \", count_dog.iloc[0])\n",
    "print(\"n accompanied by a cat: \", count_cat.iloc[0])\n",
    "print(\"n accompanied by a fish: \", count_fish.iloc[0])"
   ]
  },
  {
   "cell_type": "code",
   "execution_count": 23,
   "id": "9071d0c8-6ac9-49eb-8f89-fe58e36ef9a7",
   "metadata": {},
   "outputs": [
    {
     "name": "stdout",
     "output_type": "stream",
     "text": [
      "gender and age ratio:  Gender  Age\n",
      "1       1        53\n",
      "        2       116\n",
      "        3       133\n",
      "        4       244\n",
      "        5       314\n",
      "        6       117\n",
      "        7        85\n",
      "2       1       275\n",
      "        2       743\n",
      "        3       745\n",
      "        4      1067\n",
      "        5       909\n",
      "        6       267\n",
      "        7       216\n",
      "3       1        12\n",
      "        2         9\n",
      "        3         2\n",
      "        4         3\n",
      "        5         2\n",
      "        7         2\n",
      "4       1         1\n",
      "        2         3\n",
      "        4         5\n",
      "dtype: int64\n"
     ]
    }
   ],
   "source": [
    "print(\"gender and age ratio: \", gender_age)"
   ]
  },
  {
   "cell_type": "code",
   "execution_count": null,
   "id": "9f22980f-d695-4c17-a39b-38d9636d2919",
   "metadata": {},
   "outputs": [],
   "source": []
  },
  {
   "cell_type": "code",
   "execution_count": null,
   "id": "a0d2b8c1",
   "metadata": {},
   "outputs": [],
   "source": []
  },
  {
   "cell_type": "code",
   "execution_count": null,
   "id": "7966257f",
   "metadata": {},
   "outputs": [],
   "source": []
  },
  {
   "cell_type": "markdown",
   "id": "03024541",
   "metadata": {},
   "source": [
    "## Counterchecking results with Pandas Library _spss_converter_"
   ]
  },
  {
   "cell_type": "code",
   "execution_count": null,
   "id": "3f9c0892",
   "metadata": {},
   "outputs": [],
   "source": []
  },
  {
   "cell_type": "code",
   "execution_count": 24,
   "id": "8032f8f8",
   "metadata": {},
   "outputs": [],
   "source": [
    "#!pip install spss_converter"
   ]
  },
  {
   "cell_type": "code",
   "execution_count": 25,
   "id": "a5feddf3",
   "metadata": {},
   "outputs": [],
   "source": [
    "import spss_converter"
   ]
  },
  {
   "cell_type": "code",
   "execution_count": 26,
   "id": "723de0c9",
   "metadata": {},
   "outputs": [
    {
     "data": {
      "text/html": [
       "<div>\n",
       "<style scoped>\n",
       "    .dataframe tbody tr th:only-of-type {\n",
       "        vertical-align: middle;\n",
       "    }\n",
       "\n",
       "    .dataframe tbody tr th {\n",
       "        vertical-align: top;\n",
       "    }\n",
       "\n",
       "    .dataframe thead th {\n",
       "        text-align: right;\n",
       "    }\n",
       "</style>\n",
       "<table border=\"1\" class=\"dataframe\">\n",
       "  <thead>\n",
       "    <tr style=\"text-align: right;\">\n",
       "      <th></th>\n",
       "      <th>Gender</th>\n",
       "      <th>Age</th>\n",
       "      <th>Cohab_alone</th>\n",
       "      <th>Cohab_partner</th>\n",
       "      <th>Cohab_child</th>\n",
       "      <th>Occupation</th>\n",
       "      <th>Ethnicity</th>\n",
       "      <th>Education</th>\n",
       "      <th>Housing</th>\n",
       "      <th>Isolation</th>\n",
       "      <th>...</th>\n",
       "      <th>Social_familyfriends</th>\n",
       "      <th>Activities_birds</th>\n",
       "      <th>Activities_wildlife</th>\n",
       "      <th>Activities_watching</th>\n",
       "      <th>Activities_working</th>\n",
       "      <th>Activities_riding</th>\n",
       "      <th>Activities_farm</th>\n",
       "      <th>Activities_webcam</th>\n",
       "      <th>Activities_other</th>\n",
       "      <th>Activities_time</th>\n",
       "    </tr>\n",
       "  </thead>\n",
       "  <tbody>\n",
       "    <tr>\n",
       "      <th>0</th>\n",
       "      <td>2.0</td>\n",
       "      <td>5.0</td>\n",
       "      <td>0.0</td>\n",
       "      <td>0.0</td>\n",
       "      <td>0.0</td>\n",
       "      <td>NaN</td>\n",
       "      <td>1.0</td>\n",
       "      <td>NaN</td>\n",
       "      <td>2.0</td>\n",
       "      <td>0.0</td>\n",
       "      <td>...</td>\n",
       "      <td>NaN</td>\n",
       "      <td>NaN</td>\n",
       "      <td>NaN</td>\n",
       "      <td>NaN</td>\n",
       "      <td>NaN</td>\n",
       "      <td>NaN</td>\n",
       "      <td>NaN</td>\n",
       "      <td>NaN</td>\n",
       "      <td>NaN</td>\n",
       "      <td>NaN</td>\n",
       "    </tr>\n",
       "    <tr>\n",
       "      <th>1</th>\n",
       "      <td>1.0</td>\n",
       "      <td>2.0</td>\n",
       "      <td>1.0</td>\n",
       "      <td>0.0</td>\n",
       "      <td>0.0</td>\n",
       "      <td>NaN</td>\n",
       "      <td>1.0</td>\n",
       "      <td>NaN</td>\n",
       "      <td>2.0</td>\n",
       "      <td>1.0</td>\n",
       "      <td>...</td>\n",
       "      <td>NaN</td>\n",
       "      <td>NaN</td>\n",
       "      <td>NaN</td>\n",
       "      <td>NaN</td>\n",
       "      <td>NaN</td>\n",
       "      <td>NaN</td>\n",
       "      <td>NaN</td>\n",
       "      <td>NaN</td>\n",
       "      <td>NaN</td>\n",
       "      <td>NaN</td>\n",
       "    </tr>\n",
       "    <tr>\n",
       "      <th>2</th>\n",
       "      <td>2.0</td>\n",
       "      <td>2.0</td>\n",
       "      <td>1.0</td>\n",
       "      <td>0.0</td>\n",
       "      <td>0.0</td>\n",
       "      <td>NaN</td>\n",
       "      <td>1.0</td>\n",
       "      <td>NaN</td>\n",
       "      <td>1.0</td>\n",
       "      <td>0.0</td>\n",
       "      <td>...</td>\n",
       "      <td>NaN</td>\n",
       "      <td>NaN</td>\n",
       "      <td>NaN</td>\n",
       "      <td>NaN</td>\n",
       "      <td>NaN</td>\n",
       "      <td>NaN</td>\n",
       "      <td>NaN</td>\n",
       "      <td>NaN</td>\n",
       "      <td>NaN</td>\n",
       "      <td>NaN</td>\n",
       "    </tr>\n",
       "    <tr>\n",
       "      <th>3</th>\n",
       "      <td>1.0</td>\n",
       "      <td>2.0</td>\n",
       "      <td>1.0</td>\n",
       "      <td>0.0</td>\n",
       "      <td>0.0</td>\n",
       "      <td>NaN</td>\n",
       "      <td>1.0</td>\n",
       "      <td>NaN</td>\n",
       "      <td>1.0</td>\n",
       "      <td>0.0</td>\n",
       "      <td>...</td>\n",
       "      <td>NaN</td>\n",
       "      <td>NaN</td>\n",
       "      <td>NaN</td>\n",
       "      <td>NaN</td>\n",
       "      <td>NaN</td>\n",
       "      <td>NaN</td>\n",
       "      <td>NaN</td>\n",
       "      <td>NaN</td>\n",
       "      <td>NaN</td>\n",
       "      <td>NaN</td>\n",
       "    </tr>\n",
       "    <tr>\n",
       "      <th>4</th>\n",
       "      <td>2.0</td>\n",
       "      <td>3.0</td>\n",
       "      <td>0.0</td>\n",
       "      <td>0.0</td>\n",
       "      <td>0.0</td>\n",
       "      <td>NaN</td>\n",
       "      <td>1.0</td>\n",
       "      <td>NaN</td>\n",
       "      <td>1.0</td>\n",
       "      <td>0.0</td>\n",
       "      <td>...</td>\n",
       "      <td>NaN</td>\n",
       "      <td>NaN</td>\n",
       "      <td>NaN</td>\n",
       "      <td>NaN</td>\n",
       "      <td>NaN</td>\n",
       "      <td>NaN</td>\n",
       "      <td>NaN</td>\n",
       "      <td>NaN</td>\n",
       "      <td>NaN</td>\n",
       "      <td>NaN</td>\n",
       "    </tr>\n",
       "    <tr>\n",
       "      <th>...</th>\n",
       "      <td>...</td>\n",
       "      <td>...</td>\n",
       "      <td>...</td>\n",
       "      <td>...</td>\n",
       "      <td>...</td>\n",
       "      <td>...</td>\n",
       "      <td>...</td>\n",
       "      <td>...</td>\n",
       "      <td>...</td>\n",
       "      <td>...</td>\n",
       "      <td>...</td>\n",
       "      <td>...</td>\n",
       "      <td>...</td>\n",
       "      <td>...</td>\n",
       "      <td>...</td>\n",
       "      <td>...</td>\n",
       "      <td>...</td>\n",
       "      <td>...</td>\n",
       "      <td>...</td>\n",
       "      <td>...</td>\n",
       "      <td>...</td>\n",
       "    </tr>\n",
       "    <tr>\n",
       "      <th>5921</th>\n",
       "      <td>1.0</td>\n",
       "      <td>4.0</td>\n",
       "      <td>0.0</td>\n",
       "      <td>1.0</td>\n",
       "      <td>1.0</td>\n",
       "      <td>3.0</td>\n",
       "      <td>1.0</td>\n",
       "      <td>5.0</td>\n",
       "      <td>1.0</td>\n",
       "      <td>1.0</td>\n",
       "      <td>...</td>\n",
       "      <td>6.0</td>\n",
       "      <td>1.0</td>\n",
       "      <td>1.0</td>\n",
       "      <td>1.0</td>\n",
       "      <td>NaN</td>\n",
       "      <td>NaN</td>\n",
       "      <td>1.0</td>\n",
       "      <td>NaN</td>\n",
       "      <td>NaN</td>\n",
       "      <td>5.0</td>\n",
       "    </tr>\n",
       "    <tr>\n",
       "      <th>5922</th>\n",
       "      <td>2.0</td>\n",
       "      <td>4.0</td>\n",
       "      <td>0.0</td>\n",
       "      <td>0.0</td>\n",
       "      <td>1.0</td>\n",
       "      <td>5.0</td>\n",
       "      <td>1.0</td>\n",
       "      <td>1.0</td>\n",
       "      <td>2.0</td>\n",
       "      <td>0.0</td>\n",
       "      <td>...</td>\n",
       "      <td>2.0</td>\n",
       "      <td>1.0</td>\n",
       "      <td>NaN</td>\n",
       "      <td>NaN</td>\n",
       "      <td>NaN</td>\n",
       "      <td>NaN</td>\n",
       "      <td>NaN</td>\n",
       "      <td>NaN</td>\n",
       "      <td>NaN</td>\n",
       "      <td>5.0</td>\n",
       "    </tr>\n",
       "    <tr>\n",
       "      <th>5923</th>\n",
       "      <td>1.0</td>\n",
       "      <td>5.0</td>\n",
       "      <td>1.0</td>\n",
       "      <td>0.0</td>\n",
       "      <td>0.0</td>\n",
       "      <td>2.0</td>\n",
       "      <td>1.0</td>\n",
       "      <td>2.0</td>\n",
       "      <td>5.0</td>\n",
       "      <td>1.0</td>\n",
       "      <td>...</td>\n",
       "      <td>2.0</td>\n",
       "      <td>1.0</td>\n",
       "      <td>NaN</td>\n",
       "      <td>NaN</td>\n",
       "      <td>NaN</td>\n",
       "      <td>NaN</td>\n",
       "      <td>1.0</td>\n",
       "      <td>NaN</td>\n",
       "      <td>NaN</td>\n",
       "      <td>5.0</td>\n",
       "    </tr>\n",
       "    <tr>\n",
       "      <th>5924</th>\n",
       "      <td>1.0</td>\n",
       "      <td>5.0</td>\n",
       "      <td>1.0</td>\n",
       "      <td>0.0</td>\n",
       "      <td>0.0</td>\n",
       "      <td>6.0</td>\n",
       "      <td>1.0</td>\n",
       "      <td>5.0</td>\n",
       "      <td>2.0</td>\n",
       "      <td>0.0</td>\n",
       "      <td>...</td>\n",
       "      <td>5.0</td>\n",
       "      <td>NaN</td>\n",
       "      <td>NaN</td>\n",
       "      <td>NaN</td>\n",
       "      <td>NaN</td>\n",
       "      <td>NaN</td>\n",
       "      <td>NaN</td>\n",
       "      <td>NaN</td>\n",
       "      <td>NaN</td>\n",
       "      <td>NaN</td>\n",
       "    </tr>\n",
       "    <tr>\n",
       "      <th>5925</th>\n",
       "      <td>1.0</td>\n",
       "      <td>1.0</td>\n",
       "      <td>1.0</td>\n",
       "      <td>0.0</td>\n",
       "      <td>0.0</td>\n",
       "      <td>1.0</td>\n",
       "      <td>1.0</td>\n",
       "      <td>1.0</td>\n",
       "      <td>1.0</td>\n",
       "      <td>1.0</td>\n",
       "      <td>...</td>\n",
       "      <td>1.0</td>\n",
       "      <td>1.0</td>\n",
       "      <td>NaN</td>\n",
       "      <td>NaN</td>\n",
       "      <td>NaN</td>\n",
       "      <td>NaN</td>\n",
       "      <td>NaN</td>\n",
       "      <td>NaN</td>\n",
       "      <td>NaN</td>\n",
       "      <td>1.0</td>\n",
       "    </tr>\n",
       "  </tbody>\n",
       "</table>\n",
       "<p>5926 rows × 91 columns</p>\n",
       "</div>"
      ],
      "text/plain": [
       "      Gender  Age  Cohab_alone  Cohab_partner  Cohab_child  Occupation  \\\n",
       "0        2.0  5.0          0.0            0.0          0.0         NaN   \n",
       "1        1.0  2.0          1.0            0.0          0.0         NaN   \n",
       "2        2.0  2.0          1.0            0.0          0.0         NaN   \n",
       "3        1.0  2.0          1.0            0.0          0.0         NaN   \n",
       "4        2.0  3.0          0.0            0.0          0.0         NaN   \n",
       "...      ...  ...          ...            ...          ...         ...   \n",
       "5921     1.0  4.0          0.0            1.0          1.0         3.0   \n",
       "5922     2.0  4.0          0.0            0.0          1.0         5.0   \n",
       "5923     1.0  5.0          1.0            0.0          0.0         2.0   \n",
       "5924     1.0  5.0          1.0            0.0          0.0         6.0   \n",
       "5925     1.0  1.0          1.0            0.0          0.0         1.0   \n",
       "\n",
       "      Ethnicity  Education  Housing  Isolation  ...  Social_familyfriends  \\\n",
       "0           1.0        NaN      2.0        0.0  ...                   NaN   \n",
       "1           1.0        NaN      2.0        1.0  ...                   NaN   \n",
       "2           1.0        NaN      1.0        0.0  ...                   NaN   \n",
       "3           1.0        NaN      1.0        0.0  ...                   NaN   \n",
       "4           1.0        NaN      1.0        0.0  ...                   NaN   \n",
       "...         ...        ...      ...        ...  ...                   ...   \n",
       "5921        1.0        5.0      1.0        1.0  ...                   6.0   \n",
       "5922        1.0        1.0      2.0        0.0  ...                   2.0   \n",
       "5923        1.0        2.0      5.0        1.0  ...                   2.0   \n",
       "5924        1.0        5.0      2.0        0.0  ...                   5.0   \n",
       "5925        1.0        1.0      1.0        1.0  ...                   1.0   \n",
       "\n",
       "      Activities_birds  Activities_wildlife  Activities_watching  \\\n",
       "0                  NaN                  NaN                  NaN   \n",
       "1                  NaN                  NaN                  NaN   \n",
       "2                  NaN                  NaN                  NaN   \n",
       "3                  NaN                  NaN                  NaN   \n",
       "4                  NaN                  NaN                  NaN   \n",
       "...                ...                  ...                  ...   \n",
       "5921               1.0                  1.0                  1.0   \n",
       "5922               1.0                  NaN                  NaN   \n",
       "5923               1.0                  NaN                  NaN   \n",
       "5924               NaN                  NaN                  NaN   \n",
       "5925               1.0                  NaN                  NaN   \n",
       "\n",
       "      Activities_working  Activities_riding  Activities_farm  \\\n",
       "0                    NaN                NaN              NaN   \n",
       "1                    NaN                NaN              NaN   \n",
       "2                    NaN                NaN              NaN   \n",
       "3                    NaN                NaN              NaN   \n",
       "4                    NaN                NaN              NaN   \n",
       "...                  ...                ...              ...   \n",
       "5921                 NaN                NaN              1.0   \n",
       "5922                 NaN                NaN              NaN   \n",
       "5923                 NaN                NaN              1.0   \n",
       "5924                 NaN                NaN              NaN   \n",
       "5925                 NaN                NaN              NaN   \n",
       "\n",
       "      Activities_webcam  Activities_other  Activities_time  \n",
       "0                   NaN               NaN              NaN  \n",
       "1                   NaN               NaN              NaN  \n",
       "2                   NaN               NaN              NaN  \n",
       "3                   NaN               NaN              NaN  \n",
       "4                   NaN               NaN              NaN  \n",
       "...                 ...               ...              ...  \n",
       "5921                NaN               NaN              5.0  \n",
       "5922                NaN               NaN              5.0  \n",
       "5923                NaN               NaN              5.0  \n",
       "5924                NaN               NaN              NaN  \n",
       "5925                NaN               NaN              1.0  \n",
       "\n",
       "[5926 rows x 91 columns]"
      ]
     },
     "execution_count": 26,
     "metadata": {},
     "output_type": "execute_result"
    }
   ],
   "source": [
    "dff, metadata = spss_converter.to_dataframe('data/INTACT_dataset_OSF.sav')\n",
    "dff"
   ]
  },
  {
   "cell_type": "code",
   "execution_count": 27,
   "id": "687119dc-6de9-4b1e-9cb7-dbda7482e931",
   "metadata": {
    "tags": []
   },
   "outputs": [
    {
     "name": "stdout",
     "output_type": "stream",
     "text": [
      "counterchecking results with imported library\n"
     ]
    },
    {
     "data": {
      "text/plain": [
       "Gender\n",
       "1.0    1222\n",
       "2.0    4657\n",
       "3.0      36\n",
       "4.0      11\n",
       "dtype: int64"
      ]
     },
     "execution_count": 27,
     "metadata": {},
     "output_type": "execute_result"
    }
   ],
   "source": [
    "print(\"counterchecking results with imported library\")\n",
    "dff.groupby('Gender').size()"
   ]
  },
  {
   "cell_type": "code",
   "execution_count": 28,
   "id": "1fb90027-25f8-4429-8049-88ca314c93e1",
   "metadata": {},
   "outputs": [
    {
     "name": "stdout",
     "output_type": "stream",
     "text": [
      "counterchecking results of ethnicity\n"
     ]
    },
    {
     "data": {
      "text/plain": [
       "Ethnicity\n",
       "1.0    5739\n",
       "2.0      64\n",
       "3.0      32\n",
       "4.0       8\n",
       "5.0      11\n",
       "6.0       2\n",
       "7.0      16\n",
       "8.0      54\n",
       "dtype: int64"
      ]
     },
     "execution_count": 28,
     "metadata": {},
     "output_type": "execute_result"
    }
   ],
   "source": [
    "print(\"counterchecking results of ethnicity\")\n",
    "dff.groupby(['Ethnicity']).size()"
   ]
  },
  {
   "cell_type": "code",
   "execution_count": 29,
   "id": "8a64370c",
   "metadata": {},
   "outputs": [],
   "source": [
    "# results do match the results from pspp csv file"
   ]
  },
  {
   "cell_type": "code",
   "execution_count": 30,
   "id": "9aa543f0",
   "metadata": {},
   "outputs": [
    {
     "name": "stdout",
     "output_type": "stream",
     "text": [
      "counterchecking results of housing\n"
     ]
    },
    {
     "data": {
      "text/plain": [
       "Housing\n",
       "1    2392\n",
       "2    1802\n",
       "3     332\n",
       "4     898\n",
       "5     164\n",
       "6     338\n",
       "dtype: int64"
      ]
     },
     "execution_count": 30,
     "metadata": {},
     "output_type": "execute_result"
    }
   ],
   "source": [
    "print(\"counterchecking results of housing\")\n",
    "df.groupby(['Housing']).size()"
   ]
  },
  {
   "cell_type": "code",
   "execution_count": 31,
   "id": "032d3d4c",
   "metadata": {},
   "outputs": [],
   "source": [
    "# results do match the results from pspp csv file"
   ]
  },
  {
   "cell_type": "code",
   "execution_count": null,
   "id": "b678b3aa",
   "metadata": {},
   "outputs": [],
   "source": []
  },
  {
   "cell_type": "code",
   "execution_count": 35,
   "id": "3f24d835",
   "metadata": {},
   "outputs": [
    {
     "name": "stdout",
     "output_type": "stream",
     "text": [
      "calculation from converted csv file using pandas library\n",
      "Pet_ownership\n",
      "       53\n",
      "0     550\n",
      "1    5323\n",
      "dtype: int64\n",
      "counterchecking results of pet ownership as one row was not explicit\n",
      "using spss_converter library\n"
     ]
    },
    {
     "data": {
      "text/plain": [
       "Pet_ownership\n",
       "0.0     550\n",
       "1.0    5323\n",
       "dtype: int64"
      ]
     },
     "execution_count": 35,
     "metadata": {},
     "output_type": "execute_result"
    }
   ],
   "source": [
    "print(\"calculation from converted csv file using pandas library\")\n",
    "print(Pet)\n",
    "print(\"counterchecking results of pet ownership as one row was not explicit\")\n",
    "print(\"using spss_converter library\")\n",
    "dff.groupby(['Pet_ownership']).size()"
   ]
  },
  {
   "cell_type": "markdown",
   "id": "173fe5f0",
   "metadata": {},
   "source": [
    "## Observings\n",
    "- calculations differ a lot from the original dataset\n",
    "- the original data was not able to reconstruct with tools at hand"
   ]
  },
  {
   "cell_type": "code",
   "execution_count": null,
   "id": "4da1b505",
   "metadata": {},
   "outputs": [],
   "source": []
  }
 ],
 "metadata": {
  "kernelspec": {
   "display_name": "Python 3 (ipykernel)",
   "language": "python",
   "name": "python3"
  },
  "language_info": {
   "codemirror_mode": {
    "name": "ipython",
    "version": 3
   },
   "file_extension": ".py",
   "mimetype": "text/x-python",
   "name": "python",
   "nbconvert_exporter": "python",
   "pygments_lexer": "ipython3",
   "version": "3.11.5"
  }
 },
 "nbformat": 4,
 "nbformat_minor": 5
}
