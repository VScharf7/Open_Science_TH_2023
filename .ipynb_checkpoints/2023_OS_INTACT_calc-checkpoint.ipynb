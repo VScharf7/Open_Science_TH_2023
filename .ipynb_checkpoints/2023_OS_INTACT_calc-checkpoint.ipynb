{
 "cells": [
  {
   "cell_type": "code",
   "execution_count": 1,
   "id": "3458fd61",
   "metadata": {
    "tags": []
   },
   "outputs": [
    {
     "name": "stdout",
     "output_type": "stream",
     "text": [
      "Index(['Gender', 'Age', 'Cohab_alone', 'Cohab_partner', 'Cohab_child',\n",
      "       'Occupation', 'Ethnicity', 'Education', 'Housing', 'Isolation',\n",
      "       'Pet_ownership', 'Animal_dog', 'Animal_cat', 'Animal_small',\n",
      "       'Animal_bird', 'Animal_fish', 'Animal_reptile', 'Animal_amphib',\n",
      "       'Animal_horse', 'Animal_farm', 'Animal_other', 'Animal_amount',\n",
      "       'Non_pet', 'Animal_addition', 'Animal_consid', 'Animal_role',\n",
      "       'Animal_closest', 'CCA_companion', 'CCA_care', 'CCA_activity',\n",
      "       'CCA_constancy', 'CCA_needed', 'CCA_play', 'CCA_love', 'CCA_comfort',\n",
      "       'CCA_watch', 'CCA_loved', 'CCA_trust', 'CCA_family', 'Worry_financial',\n",
      "       'Worry_food', 'Worry_vet', 'Worry_ill', 'Worry_exercise', 'Worry_covid',\n",
      "       'Worry_work', 'Worry_routine', 'Worry_other', 'Worry_none',\n",
      "       'Worry_other_text', 'Givingup_animal', 'Animal_emotion',\n",
      "       'Animal_active', 'Animal_social', 'Animal_family_pos',\n",
      "       'Animal_family_neg', 'Animal_without', 'Animal_not', 'SWEMWBS_optim',\n",
      "       'SWEMWBS_useful', 'SWEMWBS_relaxed', 'SWEMWBS_dealing',\n",
      "       'SWEMWBS_clearly', 'SWEMWBS_people', 'SWEMWBS_mind', 'MHI_s_nervous',\n",
      "       'MHI_s_down', 'MHI_s_calm', 'MHI_s_blue', 'MHI_s_happy',\n",
      "       'MHI_b_nervous', 'MHI_b_down', 'MHI_b_calm', 'MHI_b_blue',\n",
      "       'MHI_b_happy', 'UCLA_s_companion', 'UCLA_s_leftout', 'UCLA_s_isolated',\n",
      "       'UCLA_b_companion', 'UCLA_b_leftout', 'UCLA_b_isolated',\n",
      "       'Social_familyfriends', 'Activities_birds', 'Activities_wildlife',\n",
      "       'Activities_watching', 'Activities_working', 'Activities_riding',\n",
      "       'Activities_farm', 'Activities_webcam', 'Activities_other',\n",
      "       'Activities_time'],\n",
      "      dtype='object')\n"
     ]
    },
    {
     "data": {
      "text/html": [
       "<div>\n",
       "<style scoped>\n",
       "    .dataframe tbody tr th:only-of-type {\n",
       "        vertical-align: middle;\n",
       "    }\n",
       "\n",
       "    .dataframe tbody tr th {\n",
       "        vertical-align: top;\n",
       "    }\n",
       "\n",
       "    .dataframe thead th {\n",
       "        text-align: right;\n",
       "    }\n",
       "</style>\n",
       "<table border=\"1\" class=\"dataframe\">\n",
       "  <thead>\n",
       "    <tr style=\"text-align: right;\">\n",
       "      <th></th>\n",
       "      <th>Gender</th>\n",
       "      <th>Age</th>\n",
       "      <th>Cohab_alone</th>\n",
       "      <th>Cohab_partner</th>\n",
       "      <th>Cohab_child</th>\n",
       "      <th>Occupation</th>\n",
       "      <th>Ethnicity</th>\n",
       "      <th>Education</th>\n",
       "      <th>Housing</th>\n",
       "      <th>Isolation</th>\n",
       "      <th>...</th>\n",
       "      <th>Social_familyfriends</th>\n",
       "      <th>Activities_birds</th>\n",
       "      <th>Activities_wildlife</th>\n",
       "      <th>Activities_watching</th>\n",
       "      <th>Activities_working</th>\n",
       "      <th>Activities_riding</th>\n",
       "      <th>Activities_farm</th>\n",
       "      <th>Activities_webcam</th>\n",
       "      <th>Activities_other</th>\n",
       "      <th>Activities_time</th>\n",
       "    </tr>\n",
       "  </thead>\n",
       "  <tbody>\n",
       "    <tr>\n",
       "      <th>0</th>\n",
       "      <td>2</td>\n",
       "      <td>5</td>\n",
       "      <td>0</td>\n",
       "      <td>0</td>\n",
       "      <td>0</td>\n",
       "      <td></td>\n",
       "      <td>1</td>\n",
       "      <td></td>\n",
       "      <td>2</td>\n",
       "      <td>0</td>\n",
       "      <td>...</td>\n",
       "      <td></td>\n",
       "      <td></td>\n",
       "      <td></td>\n",
       "      <td></td>\n",
       "      <td></td>\n",
       "      <td></td>\n",
       "      <td></td>\n",
       "      <td></td>\n",
       "      <td></td>\n",
       "      <td></td>\n",
       "    </tr>\n",
       "    <tr>\n",
       "      <th>1</th>\n",
       "      <td>1</td>\n",
       "      <td>2</td>\n",
       "      <td>1</td>\n",
       "      <td>0</td>\n",
       "      <td>0</td>\n",
       "      <td></td>\n",
       "      <td>1</td>\n",
       "      <td></td>\n",
       "      <td>2</td>\n",
       "      <td>1</td>\n",
       "      <td>...</td>\n",
       "      <td></td>\n",
       "      <td></td>\n",
       "      <td></td>\n",
       "      <td></td>\n",
       "      <td></td>\n",
       "      <td></td>\n",
       "      <td></td>\n",
       "      <td></td>\n",
       "      <td></td>\n",
       "      <td></td>\n",
       "    </tr>\n",
       "    <tr>\n",
       "      <th>2</th>\n",
       "      <td>2</td>\n",
       "      <td>2</td>\n",
       "      <td>1</td>\n",
       "      <td>0</td>\n",
       "      <td>0</td>\n",
       "      <td></td>\n",
       "      <td>1</td>\n",
       "      <td></td>\n",
       "      <td>1</td>\n",
       "      <td>0</td>\n",
       "      <td>...</td>\n",
       "      <td></td>\n",
       "      <td></td>\n",
       "      <td></td>\n",
       "      <td></td>\n",
       "      <td></td>\n",
       "      <td></td>\n",
       "      <td></td>\n",
       "      <td></td>\n",
       "      <td></td>\n",
       "      <td></td>\n",
       "    </tr>\n",
       "    <tr>\n",
       "      <th>3</th>\n",
       "      <td>1</td>\n",
       "      <td>2</td>\n",
       "      <td>1</td>\n",
       "      <td>0</td>\n",
       "      <td>0</td>\n",
       "      <td></td>\n",
       "      <td>1</td>\n",
       "      <td></td>\n",
       "      <td>1</td>\n",
       "      <td>0</td>\n",
       "      <td>...</td>\n",
       "      <td></td>\n",
       "      <td></td>\n",
       "      <td></td>\n",
       "      <td></td>\n",
       "      <td></td>\n",
       "      <td></td>\n",
       "      <td></td>\n",
       "      <td></td>\n",
       "      <td></td>\n",
       "      <td></td>\n",
       "    </tr>\n",
       "    <tr>\n",
       "      <th>4</th>\n",
       "      <td>2</td>\n",
       "      <td>3</td>\n",
       "      <td>0</td>\n",
       "      <td>0</td>\n",
       "      <td>0</td>\n",
       "      <td></td>\n",
       "      <td>1</td>\n",
       "      <td></td>\n",
       "      <td>1</td>\n",
       "      <td>0</td>\n",
       "      <td>...</td>\n",
       "      <td></td>\n",
       "      <td></td>\n",
       "      <td></td>\n",
       "      <td></td>\n",
       "      <td></td>\n",
       "      <td></td>\n",
       "      <td></td>\n",
       "      <td></td>\n",
       "      <td></td>\n",
       "      <td></td>\n",
       "    </tr>\n",
       "  </tbody>\n",
       "</table>\n",
       "<p>5 rows × 91 columns</p>\n",
       "</div>"
      ],
      "text/plain": [
       "   Gender  Age  Cohab_alone  Cohab_partner  Cohab_child Occupation  Ethnicity  \\\n",
       "0       2    5            0              0            0                     1   \n",
       "1       1    2            1              0            0                     1   \n",
       "2       2    2            1              0            0                     1   \n",
       "3       1    2            1              0            0                     1   \n",
       "4       2    3            0              0            0                     1   \n",
       "\n",
       "  Education  Housing  Isolation  ... Social_familyfriends Activities_birds  \\\n",
       "0                  2          0  ...                                         \n",
       "1                  2          1  ...                                         \n",
       "2                  1          0  ...                                         \n",
       "3                  1          0  ...                                         \n",
       "4                  1          0  ...                                         \n",
       "\n",
       "  Activities_wildlife Activities_watching Activities_working  \\\n",
       "0                                                              \n",
       "1                                                              \n",
       "2                                                              \n",
       "3                                                              \n",
       "4                                                              \n",
       "\n",
       "  Activities_riding Activities_farm Activities_webcam Activities_other  \\\n",
       "0                                                                        \n",
       "1                                                                        \n",
       "2                                                                        \n",
       "3                                                                        \n",
       "4                                                                        \n",
       "\n",
       "  Activities_time  \n",
       "0                  \n",
       "1                  \n",
       "2                  \n",
       "3                  \n",
       "4                  \n",
       "\n",
       "[5 rows x 91 columns]"
      ]
     },
     "execution_count": 1,
     "metadata": {},
     "output_type": "execute_result"
    }
   ],
   "source": [
    "import pandas as pd\n",
    "import numpy as np\n",
    "\n",
    "df = pd.read_csv('data/INTACT_df.csv')\n",
    "print(df.columns)\n",
    "df.head()"
   ]
  },
  {
   "cell_type": "code",
   "execution_count": 2,
   "id": "fb4b8b5a",
   "metadata": {
    "tags": []
   },
   "outputs": [
    {
     "data": {
      "text/plain": [
       "Gender\n",
       "1    1222\n",
       "2    4657\n",
       "3      36\n",
       "4      11\n",
       "dtype: int64"
      ]
     },
     "execution_count": 2,
     "metadata": {},
     "output_type": "execute_result"
    }
   ],
   "source": [
    "# creating index for used qualification\n",
    "Gender = df.groupby(['Gender']).size()\n",
    "Gender"
   ]
  },
  {
   "cell_type": "code",
   "execution_count": 3,
   "id": "d9f6f0b5",
   "metadata": {
    "tags": []
   },
   "outputs": [],
   "source": [
    "# According to the results section of the paper itself\n",
    "# 1222 participants were male\n",
    "# 4657 participants were female\n",
    "# 36 participants described themselves in another way\n",
    "# 11 participants rather didnt say\n",
    "# conclusion: 1=male, 2=female, 3=divers, 4=rathernotanswered"
   ]
  },
  {
   "cell_type": "code",
   "execution_count": 4,
   "id": "bc9a946e-07a9-4215-b320-c53e6bbc28f4",
   "metadata": {
    "tags": []
   },
   "outputs": [
    {
     "data": {
      "text/plain": [
       "Age\n",
       "1     420\n",
       "2    1040\n",
       "3     994\n",
       "4    1409\n",
       "5    1313\n",
       "6     418\n",
       "7     332\n",
       "dtype: int64"
      ]
     },
     "execution_count": 4,
     "metadata": {},
     "output_type": "execute_result"
    }
   ],
   "source": [
    "Age = df.groupby(['Age']).size()\n",
    "Age"
   ]
  },
  {
   "cell_type": "code",
   "execution_count": 5,
   "id": "f7b4b5a1-8d0a-4d9d-bdba-5155ea7732b0",
   "metadata": {
    "tags": []
   },
   "outputs": [],
   "source": [
    "# According to the results\n",
    "# 18-24 > 420  = 1 \n",
    "# 25-34 > 1040 = 2\n",
    "# 35-44 > 944  = 3\n",
    "# 45-54 > 1409 = 4\n",
    "# 55-64 > 1313 = 5\n",
    "# 65-70 > 418  = 6\n",
    "#  > 70 > 332  = 7"
   ]
  },
  {
   "cell_type": "code",
   "execution_count": 6,
   "id": "1be47537-6cb9-4b9a-a1fb-95e3898f55f3",
   "metadata": {
    "tags": []
   },
   "outputs": [
    {
     "data": {
      "text/plain": [
       "Ethnicity\n",
       "1    5739\n",
       "2      64\n",
       "3      32\n",
       "4       8\n",
       "5      11\n",
       "6       2\n",
       "7      16\n",
       "8      54\n",
       "dtype: int64"
      ]
     },
     "execution_count": 6,
     "metadata": {},
     "output_type": "execute_result"
    }
   ],
   "source": [
    "Ethni = df.groupby(['Ethnicity']).size()\n",
    "Ethni"
   ]
  },
  {
   "cell_type": "code",
   "execution_count": 7,
   "id": "3d15cdbc-9e41-48ee-b7ad-95a42b0b2aef",
   "metadata": {
    "tags": []
   },
   "outputs": [],
   "source": [
    "# According to the results\n",
    "# 1 = white (5739) != 5742\n",
    "# 2 = mixed/multiple ethnic (64) != 67\n",
    "# 3 = asian/asianbritish (32)\n",
    "# 4 = Black/african/caribbean/blackbritish (8) != 6\n",
    "# 5 = chinese (11) != 8\n",
    "# 6 = arab (2) != 4\n",
    "# 7 = other ethnicity (16) != 15\n",
    "# 8 = prefer not to say (54) != 52\n"
   ]
  },
  {
   "cell_type": "code",
   "execution_count": 8,
   "id": "2638053f-9cf7-48c9-ab57-e59394b57a0a",
   "metadata": {
    "tags": []
   },
   "outputs": [
    {
     "data": {
      "text/plain": [
       "Education\n",
       "      535\n",
       "1     770\n",
       "2     340\n",
       "3     948\n",
       "4    1828\n",
       "5    1175\n",
       "6     154\n",
       "7     176\n",
       "dtype: int64"
      ]
     },
     "execution_count": 8,
     "metadata": {},
     "output_type": "execute_result"
    }
   ],
   "source": [
    "Education = df.groupby(['Education']).size()\n",
    "Education"
   ]
  },
  {
   "cell_type": "code",
   "execution_count": 9,
   "id": "f931a9e2-9cf4-486e-9447-43eff761a05f",
   "metadata": {
    "tags": []
   },
   "outputs": [],
   "source": [
    "# According to the results\n",
    "# 1 = GCSE/O-level/CSE\n",
    "# 2 = Vocational qualification\n",
    "# 3 = A-level or equivalent\n",
    "# 4 = Bachelors's degree or equivalent\n",
    "# 5 = Masters/PhD or equivalent\n",
    "# 6 = no formal qualifications\n",
    "# 7 = other"
   ]
  },
  {
   "cell_type": "code",
   "execution_count": 10,
   "id": "2120ef25-8eae-40b0-8e2c-3661bc060fb2",
   "metadata": {
    "tags": []
   },
   "outputs": [
    {
     "data": {
      "text/plain": [
       "Occupation\n",
       "       535\n",
       "1      140\n",
       "10     515\n",
       "2      803\n",
       "3     1545\n",
       "4      277\n",
       "5      619\n",
       "6      100\n",
       "7      255\n",
       "8      903\n",
       "9      234\n",
       "dtype: int64"
      ]
     },
     "execution_count": 10,
     "metadata": {},
     "output_type": "execute_result"
    }
   ],
   "source": [
    "Employment_status = df.groupby(['Occupation']).size()\n",
    "Employment_status"
   ]
  },
  {
   "cell_type": "code",
   "execution_count": 11,
   "id": "c1630446-206a-4363-8cc1-07ae38d792e1",
   "metadata": {},
   "outputs": [],
   "source": [
    "# According to the results\n",
    "# self-employed working outside of the home\n",
    "# self-employed working from home\n",
    "# employed working outside of the home\n",
    "# employed working from home\n",
    "# furloughed due to COVID19\n",
    "# redundant due to COVID19\n",
    "# unemployed\n",
    "# retired\n"
   ]
  },
  {
   "cell_type": "code",
   "execution_count": 12,
   "id": "b7547053-0614-4b70-9395-d509077abc46",
   "metadata": {
    "tags": []
   },
   "outputs": [
    {
     "name": "stdout",
     "output_type": "stream",
     "text": [
      "Pet_ownership\n",
      "       53\n",
      "0     550\n",
      "1    5323\n",
      "dtype: int64\n"
     ]
    }
   ],
   "source": [
    "Pet = df.groupby(['Pet_ownership']).size()\n",
    "print(Pet)"
   ]
  },
  {
   "cell_type": "code",
   "execution_count": 13,
   "id": "73e0230f-3cf6-43b1-9105-bc9bb778bdf6",
   "metadata": {
    "tags": []
   },
   "outputs": [],
   "source": [
    "# according to the results \n",
    "# n=5323 participants did have at least one companion animal\n",
    "# 1 = Yes ; 0 = No\n",
    "# not labelled counts are not having an animal according to the n=603 stated in the paper"
   ]
  },
  {
   "cell_type": "code",
   "execution_count": 14,
   "id": "e4beb2ac-bc76-4995-9f6c-8fdd80c0ff2d",
   "metadata": {
    "tags": []
   },
   "outputs": [],
   "source": [
    "dff = df[df[\"Pet_ownership\"] == \"1\"]\n",
    "gender_age = dff.groupby(['Gender', 'Age']).size()\n",
    "gender_dog = dff.groupby(['Gender', 'Animal_dog']).size()\n",
    "gender_cat = dff.groupby(['Gender', 'Animal_cat']).size()\n",
    "gender_fish = dff.groupby(['Gender', 'Animal_fish']).size()"
   ]
  },
  {
   "cell_type": "code",
   "execution_count": 15,
   "id": "5f38329a-d9e0-4b19-9932-13b36ac1a1e0",
   "metadata": {
    "tags": []
   },
   "outputs": [],
   "source": [
    "count_dog = dff[dff['Animal_dog'] == \"1\"].count()\n",
    "count_cat = dff[dff['Animal_cat'] == \"1\"].count()\n",
    "count_fish = dff[dff['Animal_fish'] == \"1\"].count()"
   ]
  },
  {
   "cell_type": "code",
   "execution_count": 16,
   "id": "938ed6a1-6c02-4bc9-b500-a0c8cfa808f1",
   "metadata": {
    "tags": []
   },
   "outputs": [
    {
     "name": "stdout",
     "output_type": "stream",
     "text": [
      "n accompanied by a dog:  3719\n",
      "n accompanied by a cat:  2340\n",
      "n accompanied by a fish:  485\n"
     ]
    }
   ],
   "source": [
    "print(\"n accompanied by a dog: \", count_dog.iloc[0])\n",
    "print(\"n accompanied by a cat: \", count_cat.iloc[0])\n",
    "print(\"n accompanied by a fish: \", count_fish.iloc[0])"
   ]
  },
  {
   "cell_type": "code",
   "execution_count": null,
   "id": "9071d0c8-6ac9-49eb-8f89-fe58e36ef9a7",
   "metadata": {},
   "outputs": [],
   "source": []
  },
  {
   "cell_type": "code",
   "execution_count": null,
   "id": "9f22980f-d695-4c17-a39b-38d9636d2919",
   "metadata": {},
   "outputs": [],
   "source": []
  },
  {
   "cell_type": "code",
   "execution_count": 18,
   "id": "687119dc-6de9-4b1e-9cb7-dbda7482e931",
   "metadata": {
    "tags": []
   },
   "outputs": [
    {
     "name": "stdout",
     "output_type": "stream",
     "text": [
      "(5926, 8)\n"
     ]
    },
    {
     "data": {
      "text/html": [
       "<div>\n",
       "<style scoped>\n",
       "    .dataframe tbody tr th:only-of-type {\n",
       "        vertical-align: middle;\n",
       "    }\n",
       "\n",
       "    .dataframe tbody tr th {\n",
       "        vertical-align: top;\n",
       "    }\n",
       "\n",
       "    .dataframe thead th {\n",
       "        text-align: right;\n",
       "    }\n",
       "</style>\n",
       "<table border=\"1\" class=\"dataframe\">\n",
       "  <thead>\n",
       "    <tr style=\"text-align: right;\">\n",
       "      <th></th>\n",
       "      <th>Gender</th>\n",
       "      <th>Age</th>\n",
       "      <th>Cohab_alone</th>\n",
       "      <th>Cohab_partner</th>\n",
       "      <th>Cohab_child</th>\n",
       "      <th>Ethnicity</th>\n",
       "      <th>Housing</th>\n",
       "      <th>Isolation</th>\n",
       "    </tr>\n",
       "  </thead>\n",
       "  <tbody>\n",
       "    <tr>\n",
       "      <th>0</th>\n",
       "      <td>2</td>\n",
       "      <td>5</td>\n",
       "      <td>0</td>\n",
       "      <td>0</td>\n",
       "      <td>0</td>\n",
       "      <td>1</td>\n",
       "      <td>2</td>\n",
       "      <td>0</td>\n",
       "    </tr>\n",
       "    <tr>\n",
       "      <th>1</th>\n",
       "      <td>1</td>\n",
       "      <td>2</td>\n",
       "      <td>1</td>\n",
       "      <td>0</td>\n",
       "      <td>0</td>\n",
       "      <td>1</td>\n",
       "      <td>2</td>\n",
       "      <td>1</td>\n",
       "    </tr>\n",
       "    <tr>\n",
       "      <th>2</th>\n",
       "      <td>2</td>\n",
       "      <td>2</td>\n",
       "      <td>1</td>\n",
       "      <td>0</td>\n",
       "      <td>0</td>\n",
       "      <td>1</td>\n",
       "      <td>1</td>\n",
       "      <td>0</td>\n",
       "    </tr>\n",
       "    <tr>\n",
       "      <th>3</th>\n",
       "      <td>1</td>\n",
       "      <td>2</td>\n",
       "      <td>1</td>\n",
       "      <td>0</td>\n",
       "      <td>0</td>\n",
       "      <td>1</td>\n",
       "      <td>1</td>\n",
       "      <td>0</td>\n",
       "    </tr>\n",
       "    <tr>\n",
       "      <th>4</th>\n",
       "      <td>2</td>\n",
       "      <td>3</td>\n",
       "      <td>0</td>\n",
       "      <td>0</td>\n",
       "      <td>0</td>\n",
       "      <td>1</td>\n",
       "      <td>1</td>\n",
       "      <td>0</td>\n",
       "    </tr>\n",
       "  </tbody>\n",
       "</table>\n",
       "</div>"
      ],
      "text/plain": [
       "   Gender  Age  Cohab_alone  Cohab_partner  Cohab_child  Ethnicity  Housing  \\\n",
       "0       2    5            0              0            0          1        2   \n",
       "1       1    2            1              0            0          1        2   \n",
       "2       2    2            1              0            0          1        1   \n",
       "3       1    2            1              0            0          1        1   \n",
       "4       2    3            0              0            0          1        1   \n",
       "\n",
       "   Isolation  \n",
       "0          0  \n",
       "1          1  \n",
       "2          0  \n",
       "3          0  \n",
       "4          0  "
      ]
     },
     "execution_count": 18,
     "metadata": {},
     "output_type": "execute_result"
    }
   ],
   "source": [
    "y = (df['Pet_ownership'] == 1)\n",
    "feature_names = [col for col in df.columns if df[col].dtype in [np.int64, np.float64]]\n",
    "x = df[feature_names]\n",
    "print(x.shape)\n",
    "x.head()"
   ]
  },
  {
   "cell_type": "code",
   "execution_count": null,
   "id": "1fb90027-25f8-4429-8049-88ca314c93e1",
   "metadata": {},
   "outputs": [],
   "source": []
  }
 ],
 "metadata": {
  "kernelspec": {
   "display_name": "Python 3 (ipykernel)",
   "language": "python",
   "name": "python3"
  },
  "language_info": {
   "codemirror_mode": {
    "name": "ipython",
    "version": 3
   },
   "file_extension": ".py",
   "mimetype": "text/x-python",
   "name": "python",
   "nbconvert_exporter": "python",
   "pygments_lexer": "ipython3",
   "version": "3.11.5"
  }
 },
 "nbformat": 4,
 "nbformat_minor": 5
}
